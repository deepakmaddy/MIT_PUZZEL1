{
  "nbformat": 4,
  "nbformat_minor": 0,
  "metadata": {
    "colab": {
      "name": "MIT_PUZZEL1.ipynb",
      "version": "0.3.2",
      "provenance": [],
      "include_colab_link": true
    },
    "kernelspec": {
      "name": "python3",
      "display_name": "Python 3"
    }
  },
  "cells": [
    {
      "cell_type": "markdown",
      "metadata": {
        "id": "view-in-github",
        "colab_type": "text"
      },
      "source": [
        "<a href=\"https://colab.research.google.com/github/deepakmaddy/MIT_PUZZEL1/blob/master/MIT_PUZZEL1.ipynb\" target=\"_parent\"><img src=\"https://colab.research.google.com/assets/colab-badge.svg\" alt=\"Open In Colab\"/></a>"
      ]
    },
    {
      "metadata": {
        "id": "mlX3yc1lr-R1",
        "colab_type": "code",
        "colab": {
          "base_uri": "https://localhost:8080/",
          "height": 68
        },
        "outputId": "b1ac276b-cdf6-4fe0-abc9-62b5baa831d6"
      },
      "cell_type": "code",
      "source": [
        "#Programming for the Puzzled -- Srini Devadas\n",
        "#You Will All Conform\n",
        "#Input is a vector of F's and B's, in terms of forwards and backwards caps\n",
        "#Output is a set of commands (printed out) to get either all F's or all B's\n",
        "#Fewest commands are the goal\n",
        "\n",
        "caps = ['F', 'F', 'B', 'B', 'B', 'F', 'B',\n",
        "        'B', 'B', 'F', 'F', 'B', 'F' ]\n",
        "cap2 = ['F', 'F', 'B', 'B', 'B', 'F', 'B', 'B', 'B', 'F', 'F', 'F', 'F' ]\n",
        "\n",
        "def pleaseConform(caps):\n",
        "    #Initialization\n",
        "    start = 0\n",
        "    forward = 0\n",
        "    backward = 0\n",
        "    intervals = []\n",
        "\n",
        "    #Determine intervals where caps are on in the same direction\n",
        "    for i in range(1, len(caps)):\n",
        "        if caps[start] != caps[i]:\n",
        "            # each interval is a tuple with 3 elements (start, end, type)\n",
        "            intervals.append((start, i - 1, caps[start]))\n",
        "            \n",
        "            if caps[start] == 'F':\n",
        "                forward += 1\n",
        "            else:\n",
        "                backward += 1\n",
        "            start = i\n",
        "\n",
        "    #Need to add the last interval after for loop completes execution\n",
        "    intervals.append((start, len(caps) - 1, caps[start]))\n",
        "    if caps[start] == 'F':\n",
        "        forward += 1\n",
        "    else:\n",
        "        backward += 1\n",
        " \n",
        "##    print (intervals)\n",
        "##    print (forward, backward)\n",
        "    if forward < backward:\n",
        "        flip = 'F'\n",
        "    else:\n",
        "        flip = 'B'\n",
        "    for t in intervals:\n",
        "        if t[2] == flip:\n",
        "            #Exercise: if t[0] == t[1] change the printing!\n",
        "            print ('People in positions', t[0],\n",
        "                   'through', t[1], 'flip your caps!')\n",
        "                \n",
        "            \n",
        "pleaseConform(caps)\n",
        "##pleaseConform(cap2)"
      ],
      "execution_count": 1,
      "outputs": [
        {
          "output_type": "stream",
          "text": [
            "People in positions 2 through 4 flip your caps!\n",
            "People in positions 6 through 8 flip your caps!\n",
            "People in positions 11 through 11 flip your caps!\n"
          ],
          "name": "stdout"
        }
      ]
    }
  ]
}